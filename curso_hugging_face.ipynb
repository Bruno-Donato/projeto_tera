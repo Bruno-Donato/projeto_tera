{
 "cells": [
  {
   "attachments": {},
   "cell_type": "markdown",
   "metadata": {},
   "source": [
    "# Curso de NLP HuggingFace 🤗\n",
    "Nesse notebook incluí os resumo dos meus estudos sobre transformers, disponibilizados na plataforma [HuggingFace](https://huggingface.co/learn/nlp-course/chapter1/1).\n",
    "\n",
    "- Historia e conceitos\n",
    "- Entendendo arquitetura\n",
    "- Utilizando transformers\n",
    "- Ajuste fino\n",
    "- Disponível em pytorch e tensorflow (opção escolhida)"
   ]
  },
  {
   "cell_type": "code",
   "execution_count": 1,
   "metadata": {},
   "outputs": [],
   "source": [
    "from IPython.display import Image\n",
    "from transformers import pipeline"
   ]
  },
  {
   "attachments": {},
   "cell_type": "markdown",
   "metadata": {},
   "source": [
    "# Pipelines"
   ]
  },
  {
   "attachments": {},
   "cell_type": "markdown",
   "metadata": {},
   "source": [
    "- Engloba: \n",
    "    - Pré-processamento\n",
    "    - Modelo \n",
    "    - Pós-processamento<br>\n",
    "<br>\n",
    "- Tipos (LISTA COMPLETA - https://huggingface.co/docs/transformers/main_classes/pipelines)\n",
    "    - feature-extraction (get the vector representation of a text)\n",
    "    - fill-mask\n",
    "    - ner (named entity recognition)\n",
    "    - question-answering\n",
    "    - sentiment-analysis\n",
    "    - summarization\n",
    "    - text-generation\n",
    "    - translation\n",
    "    - zero-shot-classification"
   ]
  },
  {
   "cell_type": "code",
   "execution_count": null,
   "metadata": {},
   "outputs": [],
   "source": [
    "# Classificação\n",
    "classifier = pipeline('sentiment-analysis')\n",
    "\n",
    "classifier(texto)"
   ]
  },
  {
   "cell_type": "code",
   "execution_count": null,
   "metadata": {},
   "outputs": [],
   "source": [
    "# Zero-shot\n",
    "classifier = pipeline('zero-shot-classification')\n",
    "\n",
    "classifier(\n",
    "    texto,\n",
    "    candidate_labels = ['educação', 'politica', 'ciência']\n",
    ")"
   ]
  },
  {
   "cell_type": "code",
   "execution_count": null,
   "metadata": {},
   "outputs": [],
   "source": [
    "# Geração de texto\n",
    "generator = pipeline('text-generation')\n",
    "\n",
    "generator(texto)"
   ]
  },
  {
   "cell_type": "code",
   "execution_count": null,
   "metadata": {},
   "outputs": [],
   "source": [
    "# Geração de texto com modelo adicional\n",
    "generator = pipeline(\n",
    "    'text-generation',\n",
    "    model = 'distilgpt2'    # versão light do gpt2\n",
    ")\n",
    "\n",
    "generator(\n",
    "    max_length = 30,            # Tamanho máximo da sentensa\n",
    "    num_return_sequences = 2    # Número de sentenças\n",
    ")"
   ]
  },
  {
   "cell_type": "code",
   "execution_count": null,
   "metadata": {},
   "outputs": [],
   "source": [
    "# Prevendo palavras ausentes\n",
    "unmasker = pipeline('fill-mask')\n",
    "\n",
    "unmasker(\n",
    "    \"eu prefiro muito mais <mask> de terror do que ação\",\n",
    "    top_k = 2\n",
    ")"
   ]
  },
  {
   "cell_type": "code",
   "execution_count": null,
   "metadata": {},
   "outputs": [],
   "source": [
    "# Named entity recognition (NER)\n",
    "ner = pipeline('ner', grouped_entities = True)\n",
    "\n",
    "ner('Meu nome é Bruno, eu moro na cidade de Campinas e fui aluno da Unicamp')"
   ]
  },
  {
   "cell_type": "code",
   "execution_count": null,
   "metadata": {},
   "outputs": [],
   "source": [
    "# Respondendo perguntas\n",
    "question_answerer = pipeline('question_answering')\n",
    "\n",
    "question_answerer(\n",
    "    question = 'onde eu moro?',\n",
    "    context = 'Meu nome é Bruno, eu moro na cidade de Campinas e fui aluno da Unicamp'\n",
    ")"
   ]
  },
  {
   "cell_type": "code",
   "execution_count": null,
   "metadata": {},
   "outputs": [],
   "source": [
    "# Resumindo\n",
    "summarizer = pipeline('summarization')\n",
    "\n",
    "summarizer(\n",
    "    'textao longo'\n",
    ")"
   ]
  },
  {
   "cell_type": "code",
   "execution_count": null,
   "metadata": {},
   "outputs": [],
   "source": [
    "# Tradução\n",
    "translator = pipeline('translation',\n",
    "                      model = 'modelo_escolhido')\n",
    "\n",
    "translator('frase na lingua original')"
   ]
  },
  {
   "attachments": {},
   "cell_type": "markdown",
   "metadata": {},
   "source": [
    "Pesquisar e testar outros tipos e tarefas"
   ]
  },
  {
   "attachments": {},
   "cell_type": "markdown",
   "metadata": {},
   "source": [
    "# 2. Como funcionam Transformers"
   ]
  },
  {
   "cell_type": "code",
   "execution_count": 7,
   "metadata": {},
   "outputs": [
    {
     "data": {
      "image/png": "[encoded data removed]",
      "text/plain": [
       "<IPython.core.display.Image object>"
      ]
     },
     "execution_count": 7,
     "metadata": {},
     "output_type": "execute_result"
    }
   ],
   "source": [
    "Image(filename = 'data/linha_tempo.png')"
   ]
  },
  {
   "attachments": {},
   "cell_type": "markdown",
   "metadata": {},
   "source": [
    "Introduzido em 2017, e o objetivo incial era tradução. Podem ser agrupados em 3 tipos:\n",
    "\n",
    "- GPT-like (auto-regressive Transformer models)\n",
    "- BERT-like (auto-encoding Transformer models)\n",
    "- BART/T5-like (sequence-to-sequence Transformer models)\n",
    "\n",
    "Criados como modelos de linguagem, treinados por quantidades enormes de textos de maneira auto-supervisionada (computar a partir dos input) não necessitando de trabalho humano para classiicação.\n",
    "\n",
    "Esse tipo de modelo desenvolve um entendimento estatistico da linguagem em que foi treinada, porém não é muit boa para tarefas praticas específicas, por isso é feito processo de transfer learning. Nesse processo o modelo é ajustado de forma supervisionada.\n",
    "\n",
    "São modelos de grandes dimensões e como estratégia de aprimoramento é necessário aumentar o tamanho do modelo e dos dados em que ele é pré-treinado, o que os torna muito custosos (tempo e computacionalmente).\n",
    "\n",
    "ML CO2 Impact or Code Carbon which is integrated in 🤗 Transformers\n",
    "\n",
    "Exemplo de codigo:<br>\n",
    "from codecarbon import EmissionTracker\n",
    "<br>\n",
    "tracker = EmissionTracker()<br>\n",
    "tracker.start()<br>\n",
    "GPU intensive code goes here<br>\n",
    "tracker.stop()<br>"
   ]
  },
  {
   "attachments": {},
   "cell_type": "markdown",
   "metadata": {},
   "source": [
    "## Transfer learning"
   ]
  },
  {
   "attachments": {},
   "cell_type": "markdown",
   "metadata": {},
   "source": [
    "Podemos iniciar um modelo do 0, onde disponibilizamos dados para que o modelo, sem conhecimento prévio nos responda algumas questões, porém isso exige um conjunto de dados muito grande e tempo de treinamento.<br>\n",
    "Assim podemos utilizar modelos ja treinado para fazer ajustes finos utilizando modelos pré-treinados. Para isso vamos executar treinamento adicional com dataset específico para nossa tarefa.<br>\n",
    "Esse processo exige menos dinheiro, tempo  e dados."
   ]
  },
  {
   "attachments": {},
   "cell_type": "markdown",
   "metadata": {},
   "source": [
    "## Arquitetura"
   ]
  },
  {
   "attachments": {},
   "cell_type": "markdown",
   "metadata": {},
   "source": [
    "- Encoders:\n",
    "    - Recebe inputs que representam textos (representações numéricas dos textos, ou embedings)\n",
    "    - Bidirecional\n",
    "    - Mecanismo de self-attention\n",
    "    - Úteis para 'adquirir' conhecimento<br>\n",
    "<br>\n",
    "- Decoders:\n",
    "    - Recebe inputs que representam textos (representações numéricas dos textos, ou embedings)\n",
    "    - Unidirecional\n",
    "    - Auto-regressivo\n",
    "    - Mecanismo de masked self-attention\n",
    "    - Úteis para gerar outputs<br>\n",
    "<br> \n",
    "- Encoder-decoder:\n",
    "    - Úteis para tarefas generativas que requerem inputs (tradução sumarização)"
   ]
  },
  {
   "cell_type": "code",
   "execution_count": 8,
   "metadata": {},
   "outputs": [
    {
     "data": {
      "image/png": "[encoded data removed]",
      "text/plain": [
       "<IPython.core.display.Image object>"
      ]
     },
     "execution_count": 8,
     "metadata": {},
     "output_type": "execute_result"
    }
   ],
   "source": [
    "Image(filename = 'data/arquitetura.png')"
   ]
  },
  {
   "attachments": {},
   "cell_type": "markdown",
   "metadata": {},
   "source": [
    "## Attention Layers"
   ]
  },
  {
   "attachments": {},
   "cell_type": "markdown",
   "metadata": {},
   "source": [
    "Essa camada da rede basicamente indica quais palavras o modelo deve prestar mais atenção.\n"
   ]
  },
  {
   "attachments": {},
   "cell_type": "markdown",
   "metadata": {},
   "source": [
    "# Usando Transformers"
   ]
  },
  {
   "attachments": {},
   "cell_type": "markdown",
   "metadata": {},
   "source": [
    "## Como funcionam"
   ]
  },
  {
   "cell_type": "code",
   "execution_count": 9,
   "metadata": {},
   "outputs": [
    {
     "data": {
      "image/png": "[encoded data removed]",
      "text/plain": [
       "<IPython.core.display.Image object>"
      ]
     },
     "execution_count": 9,
     "metadata": {},
     "output_type": "execute_result"
    }
   ],
   "source": [
    "Image(filename = 'data/por_tras_pipelines.png')"
   ]
  },
  {
   "attachments": {},
   "cell_type": "markdown",
   "metadata": {},
   "source": [
    "## Teste fluxo em um transformer"
   ]
  },
  {
   "attachments": {},
   "cell_type": "markdown",
   "metadata": {},
   "source": [
    "### Utilizando transformers"
   ]
  },
  {
   "cell_type": "code",
   "execution_count": null,
   "metadata": {},
   "outputs": [
    {
     "name": "stderr",
     "output_type": "stream",
     "text": [
      "No model was supplied, defaulted to distilbert-base-uncased-finetuned-sst-2-english and revision af0f99b (https://huggingface.co/distilbert-base-uncased-finetuned-sst-2-english).\n",
      "Using a pipeline without specifying a model name and revision in production is not recommended.\n",
      "Some layers from the model checkpoint at distilbert-base-uncased-finetuned-sst-2-english were not used when initializing TFDistilBertForSequenceClassification: ['dropout_19']\n",
      "- This IS expected if you are initializing TFDistilBertForSequenceClassification from the checkpoint of a model trained on another task or with another architecture (e.g. initializing a BertForSequenceClassification model from a BertForPreTraining model).\n",
      "- This IS NOT expected if you are initializing TFDistilBertForSequenceClassification from the checkpoint of a model that you expect to be exactly identical (initializing a BertForSequenceClassification model from a BertForSequenceClassification model).\n",
      "Some layers of TFDistilBertForSequenceClassification were not initialized from the model checkpoint at distilbert-base-uncased-finetuned-sst-2-english and are newly initialized: ['dropout_118']\n",
      "You should probably TRAIN this model on a down-stream task to be able to use it for predictions and inference.\n"
     ]
    },
    {
     "data": {
      "text/plain": [
       "[{'label': 'POSITIVE', 'score': 0.9997808337211609},\n",
       " {'label': 'POSITIVE', 'score': 0.9992283582687378}]"
      ]
     },
     "metadata": {},
     "output_type": "display_data"
    }
   ],
   "source": [
    "classifier = pipeline('sentiment-analysis', framework = 'tf')\n",
    "\n",
    "classifier([\n",
    "    \"I really like music\",\n",
    "    \"I have a dream to be a musician\",\n",
    "])"
   ]
  },
  {
   "attachments": {},
   "cell_type": "markdown",
   "metadata": {},
   "source": [
    "### Como funciona"
   ]
  },
  {
   "attachments": {},
   "cell_type": "markdown",
   "metadata": {},
   "source": [
    "#### Tokenização"
   ]
  },
  {
   "attachments": {},
   "cell_type": "markdown",
   "metadata": {},
   "source": [
    "Utilizamos autotokenizer para separar elementos do textos em tokens (representações numéricas das palavras) e na sequencia em tensors"
   ]
  },
  {
   "cell_type": "code",
   "execution_count": 10,
   "metadata": {},
   "outputs": [
    {
     "name": "stderr",
     "output_type": "stream",
     "text": [
      "Downloading (…)okenizer_config.json: 100%|██████████| 48.0/48.0 [00:00<00:00, 12.6kB/s]\n",
      "d:\\ciencia_de_dados\\projetos\\tera_projeto\\venv\\lib\\site-packages\\huggingface_hub\\file_download.py:133: UserWarning: `huggingface_hub` cache-system uses symlinks by default to efficiently store duplicated files but your machine does not support them in C:\\Users\\55199\\.cache\\huggingface\\hub. Caching files will still work but in a degraded version that might require more space on your disk. This warning can be disabled by setting the `HF_HUB_DISABLE_SYMLINKS_WARNING` environment variable. For more details, see https://huggingface.co/docs/huggingface_hub/how-to-cache#limitations.\n",
      "To support symlinks on Windows, you either need to activate Developer Mode or to run Python as an administrator. In order to see activate developer mode, see this article: https://docs.microsoft.com/en-us/windows/apps/get-started/enable-your-device-for-development\n",
      "  warnings.warn(message)\n",
      "Downloading (…)lve/main/config.json: 100%|██████████| 629/629 [00:00<00:00, 116kB/s]\n",
      "Downloading (…)solve/main/vocab.txt: 100%|██████████| 232k/232k [00:00<00:00, 1.15MB/s]\n"
     ]
    }
   ],
   "source": [
    "from transformers import AutoTokenizer\n",
    "\n",
    "checkpoint = \"distilbert-base-uncased-finetuned-sst-2-english\"\n",
    "tokenizer = AutoTokenizer.from_pretrained(checkpoint)"
   ]
  },
  {
   "cell_type": "code",
   "execution_count": 17,
   "metadata": {},
   "outputs": [
    {
     "name": "stdout",
     "output_type": "stream",
     "text": [
      "{'input_ids': <tf.Tensor: shape=(2, 10), dtype=int32, numpy=\n",
      "array([[ 101, 1045, 2428, 2066, 2189,  102,    0,    0,    0,    0],\n",
      "       [ 101, 1045, 2031, 1037, 3959, 2000, 2022, 1037, 5455,  102]])>, 'attention_mask': <tf.Tensor: shape=(2, 10), dtype=int32, numpy=\n",
      "array([[1, 1, 1, 1, 1, 1, 0, 0, 0, 0],\n",
      "       [1, 1, 1, 1, 1, 1, 1, 1, 1, 1]])>}\n"
     ]
    }
   ],
   "source": [
    "raw_inputs = [\n",
    "    \"I really like music\",\n",
    "    \"I have a dream to be a musician\",\n",
    "]\n",
    "inputs = tokenizer(raw_inputs, padding=True, \n",
    "                   truncation=True, return_tensors=\"tf\")\n",
    "print(inputs)"
   ]
  },
  {
   "attachments": {},
   "cell_type": "markdown",
   "metadata": {},
   "source": [
    "#### Dentro do modelo"
   ]
  },
  {
   "attachments": {},
   "cell_type": "markdown",
   "metadata": {},
   "source": [
    "Para cada input teremos um 'high-dimensional vector' representando a compreensão contextual do input recebido."
   ]
  },
  {
   "cell_type": "code",
   "execution_count": 12,
   "metadata": {},
   "outputs": [
    {
     "name": "stderr",
     "output_type": "stream",
     "text": [
      "Downloading tf_model.h5: 100%|██████████| 268M/268M [01:08<00:00, 3.89MB/s] \n",
      "Some layers from the model checkpoint at distilbert-base-uncased-finetuned-sst-2-english were not used when initializing TFDistilBertModel: ['classifier', 'dropout_19', 'pre_classifier']\n",
      "- This IS expected if you are initializing TFDistilBertModel from the checkpoint of a model trained on another task or with another architecture (e.g. initializing a BertForSequenceClassification model from a BertForPreTraining model).\n",
      "- This IS NOT expected if you are initializing TFDistilBertModel from the checkpoint of a model that you expect to be exactly identical (initializing a BertForSequenceClassification model from a BertForSequenceClassification model).\n",
      "All the layers of TFDistilBertModel were initialized from the model checkpoint at distilbert-base-uncased-finetuned-sst-2-english.\n",
      "If your task is similar to the task the model of the checkpoint was trained on, you can already use TFDistilBertModel for predictions without further training.\n"
     ]
    }
   ],
   "source": [
    "from transformers import TFAutoModel\n",
    "\n",
    "model = TFAutoModel.from_pretrained(checkpoint)"
   ]
  },
  {
   "attachments": {},
   "cell_type": "markdown",
   "metadata": {},
   "source": [
    "#### High-dimensional vector"
   ]
  },
  {
   "attachments": {},
   "cell_type": "markdown",
   "metadata": {},
   "source": [
    "O resultado é um vetor de grandes dimensões, geralmente com 3 dimensões:\n",
    "\n",
    "- Batch size: numero de sequencias processadas (2 no nosso caso)\n",
    "- Sequence length: o tamanho da representação numerica da sequencia (16 no nosso caso)\n",
    "- Hidden size: a dimensão do vetor de cada input do modelo"
   ]
  },
  {
   "cell_type": "code",
   "execution_count": 13,
   "metadata": {},
   "outputs": [
    {
     "name": "stdout",
     "output_type": "stream",
     "text": [
      "(2, 11, 768)\n"
     ]
    }
   ],
   "source": [
    "outputs = model(inputs)\n",
    "print(outputs.last_hidden_state.shape)"
   ]
  },
  {
   "attachments": {},
   "cell_type": "markdown",
   "metadata": {},
   "source": [
    "#### Model heads: extraindo sentido dos números"
   ]
  },
  {
   "attachments": {},
   "cell_type": "markdown",
   "metadata": {},
   "source": [
    "O model heads recebe o 'high-dimensional vector' dos hidden stats como input e os projeta em uma dimensão diferente. Geralmente são compostos de uma ou poucas camadas lineares."
   ]
  },
  {
   "cell_type": "code",
   "execution_count": 31,
   "metadata": {},
   "outputs": [
    {
     "data": {
      "image/png": "[encoded data removed]",
      "text/plain": [
       "<IPython.core.display.Image object>"
      ]
     },
     "execution_count": 31,
     "metadata": {},
     "output_type": "execute_result"
    }
   ],
   "source": [
    "Image(filename = 'data/fluxo_transformer.png')"
   ]
  },
  {
   "attachments": {},
   "cell_type": "markdown",
   "metadata": {},
   "source": [
    "O modelo é representado pelos embeddings e camadas subsequentes. A cadama de embeddings converte cada ID do input tokenizado em um vetor que representa o token associado. As camadas subsequentes manipulam os vetores usando o mecanismo de 'self-attention' para produzir a representação final das sentenças."
   ]
  },
  {
   "cell_type": "code",
   "execution_count": 14,
   "metadata": {},
   "outputs": [
    {
     "name": "stderr",
     "output_type": "stream",
     "text": [
      "Some layers from the model checkpoint at distilbert-base-uncased-finetuned-sst-2-english were not used when initializing TFDistilBertForSequenceClassification: ['dropout_19']\n",
      "- This IS expected if you are initializing TFDistilBertForSequenceClassification from the checkpoint of a model trained on another task or with another architecture (e.g. initializing a BertForSequenceClassification model from a BertForPreTraining model).\n",
      "- This IS NOT expected if you are initializing TFDistilBertForSequenceClassification from the checkpoint of a model that you expect to be exactly identical (initializing a BertForSequenceClassification model from a BertForSequenceClassification model).\n",
      "Some layers of TFDistilBertForSequenceClassification were not initialized from the model checkpoint at distilbert-base-uncased-finetuned-sst-2-english and are newly initialized: ['dropout_38']\n",
      "You should probably TRAIN this model on a down-stream task to be able to use it for predictions and inference.\n"
     ]
    }
   ],
   "source": [
    "from transformers import TFAutoModelForSequenceClassification\n",
    "\n",
    "model = TFAutoModelForSequenceClassification.from_pretrained(checkpoint)\n",
    "outputs = model(inputs)"
   ]
  },
  {
   "cell_type": "code",
   "execution_count": 15,
   "metadata": {},
   "outputs": [
    {
     "name": "stdout",
     "output_type": "stream",
     "text": [
      "(2, 2)\n"
     ]
    }
   ],
   "source": [
    "print(outputs.logits.shape)"
   ]
  },
  {
   "attachments": {},
   "cell_type": "markdown",
   "metadata": {},
   "source": [
    "O resultado (acima) é no formato 2 x 2, contendo duas sentenças e duas classificações"
   ]
  },
  {
   "attachments": {},
   "cell_type": "markdown",
   "metadata": {},
   "source": [
    "#### Pós-processamento"
   ]
  },
  {
   "cell_type": "code",
   "execution_count": 16,
   "metadata": {},
   "outputs": [
    {
     "name": "stdout",
     "output_type": "stream",
     "text": [
      "tf.Tensor(\n",
      "[[-4.057528  4.368034]\n",
      " [-3.284319  3.517034]], shape=(2, 2), dtype=float32)\n"
     ]
    }
   ],
   "source": [
    "print(outputs.logits)"
   ]
  },
  {
   "attachments": {},
   "cell_type": "markdown",
   "metadata": {},
   "source": [
    "Nosso modelo previu [-4.057528  4.368034] para a primeira frase e [-3.284319  3.517034] para a segunda. Essas não são probabilidades e sim scores 'crus' e não normalizados (logits). Para serem convertidos para probabilidades precisamos passa-los por uma camada SoftMax"
   ]
  },
  {
   "cell_type": "code",
   "execution_count": 19,
   "metadata": {},
   "outputs": [
    {
     "name": "stdout",
     "output_type": "stream",
     "text": [
      "tf.Tensor(\n",
      "[[2.1914410e-04 9.9978083e-01]\n",
      " [1.1110335e-03 9.9888903e-01]], shape=(2, 2), dtype=float32)\n"
     ]
    }
   ],
   "source": [
    "import tensorflow as tf\n",
    "\n",
    "predictions = tf.math.softmax(outputs.logits, axis=-1)\n",
    "print(predictions)"
   ]
  },
  {
   "attachments": {},
   "cell_type": "markdown",
   "metadata": {},
   "source": [
    "Agora podemos ver que o modelo previu [0.0002 0.9997] para a primeira frase e [0.0011 0.9988] para a segunda.\n",
    "\n",
    "Podemos identificar a posição de cada classificação com o atributo 'id2label'. "
   ]
  },
  {
   "cell_type": "code",
   "execution_count": 20,
   "metadata": {},
   "outputs": [
    {
     "data": {
      "text/plain": [
       "{0: 'NEGATIVE', 1: 'POSITIVE'}"
      ]
     },
     "execution_count": 20,
     "metadata": {},
     "output_type": "execute_result"
    }
   ],
   "source": [
    "model.config.id2label"
   ]
  },
  {
   "attachments": {},
   "cell_type": "markdown",
   "metadata": {},
   "source": [
    "Ou seja:\n",
    "- Primeia sentença: \"I really like music\" [NEGATIVO: 0.0002, POSITIVO: 0.9997]\n",
    "- Segunda sentença: \"I have a dream to be a musician\" [NEGATIVO: 0.0011, POSITIVO: 0.9988]"
   ]
  },
  {
   "attachments": {},
   "cell_type": "markdown",
   "metadata": {},
   "source": [
    "## Modelos"
   ]
  },
  {
   "attachments": {},
   "cell_type": "markdown",
   "metadata": {},
   "source": [
    "Aqui iremos entenderemos como criar e usar um modelo.<br>\n",
    "Podemos usar o 'TFAutoModel' (para instanciar qualquer modelo de maneira rapida e inteligente)."
   ]
  },
  {
   "cell_type": "code",
   "execution_count": null,
   "metadata": {},
   "outputs": [],
   "source": [
    "from transformers import TFAutoModel\n",
    "\n",
    "bert_model = TFAutoModel('bert-base-cased')\n",
    "print(type(bert_model))\n",
    "\n",
    "gpt_model = TFAutoModel('gpt2')\n",
    "print(type(gpt_model))\n",
    "\n",
    "bart_model = TFAutoModel('facebook/bart-base')\n",
    "print(type(bart_model))"
   ]
  },
  {
   "attachments": {},
   "cell_type": "markdown",
   "metadata": {},
   "source": [
    " Ou podemos usar a classe de que define a arquitetura do modelo a partir do checkpoint escolhido como 'TFBertModel' e similares."
   ]
  },
  {
   "cell_type": "code",
   "execution_count": null,
   "metadata": {},
   "outputs": [],
   "source": [
    "from transformers import BertConfig, TFBertModel\n",
    "\n",
    "# Building the config\n",
    "config = BertConfig()\n",
    "\n",
    "# Building the model from the config\n",
    "model = TFBertModel(config)"
   ]
  },
  {
   "attachments": {},
   "cell_type": "markdown",
   "metadata": {},
   "source": [
    "A configuração contem todos os atributos do modelo"
   ]
  },
  {
   "cell_type": "code",
   "execution_count": null,
   "metadata": {},
   "outputs": [],
   "source": [
    "print(config)"
   ]
  },
  {
   "attachments": {},
   "cell_type": "markdown",
   "metadata": {},
   "source": [
    "O modelo é inicializado com parâmetros aleatórios e se usado não terá boa performance. Podemos treina-lo para uma tarefa porém como já vimos ja exitem modelos pré-treinados disponíveis e é importante conseguirmos compartilhar e usar modelos para facilitar essa etapa.<br>\n",
    "Carregar um modelo pré-treinado é simples:"
   ]
  },
  {
   "attachments": {},
   "cell_type": "markdown",
   "metadata": {},
   "source": [
    "Se usarmos a classe 'TFAutoModel' e similares iremos criar um código checkpoint-agnóstico, isso quer dizer que se seu código funcionar em um checkpoint ele também deve funcionar nos outros, mesmo se a arquitetura for diferente contanto que seja treinado para a mesma tarefa."
   ]
  },
  {
   "cell_type": "code",
   "execution_count": null,
   "metadata": {},
   "outputs": [],
   "source": [
    "from transformers import TFBertModel\n",
    "\n",
    "model = TFBertModel.from_pretrained(\"bert-base-cased\")"
   ]
  },
  {
   "attachments": {},
   "cell_type": "markdown",
   "metadata": {},
   "source": [
    "Nesse caso acima não utilziamos o 'BertConfig', ao invés disso nós carregamos o modelo pré-treinado via identificador 'bert-base-cased'.<br>\n",
    "Esse modelo está agora inicializado com todos os 'pesos' do checkpoint e pode ser usado para inferência das tarefas para qual foi treinado e também pode ser ajustado para novas tarefas. Fazendo esse processo podemos alcançar bons resultados rapidamente."
   ]
  },
  {
   "attachments": {},
   "cell_type": "markdown",
   "metadata": {},
   "source": [
    "### Salvando modelo"
   ]
  },
  {
   "cell_type": "code",
   "execution_count": null,
   "metadata": {},
   "outputs": [],
   "source": [
    "model.save_pretrained(\"directory_on_my_computer\")"
   ]
  },
  {
   "attachments": {},
   "cell_type": "markdown",
   "metadata": {},
   "source": [
    "Com o método acima são salvos 2 arquivos em disco"
   ]
  },
  {
   "cell_type": "code",
   "execution_count": null,
   "metadata": {},
   "outputs": [],
   "source": [
    "ls directory_on_my_computer\n",
    "\n",
    "config.json tf_model.h5"
   ]
  },
  {
   "attachments": {},
   "cell_type": "markdown",
   "metadata": {},
   "source": [
    "O se olharmos o arquivo 'config.json' veremos todos os atributos necessários para construir a arquitetura do modelo e outros metadados.<br>\n",
    "O arquivo 'tf_model.h5' contém todos os 'pesos' do modelo"
   ]
  },
  {
   "attachments": {},
   "cell_type": "markdown",
   "metadata": {},
   "source": [
    "## Tokenizers"
   ]
  },
  {
   "attachments": {},
   "cell_type": "markdown",
   "metadata": {},
   "source": [
    "Propósito principal é converter texto em dados que podem ser processados pelo modelo.<br>\n",
    "Porém podemos fazer separação dos componentes do texto de maneira diferente:\n",
    "- Baseado em palavras: limitação de tamanho (modelos grandes) palavras similares podem ser entendidas pelos modelos de maneira muito diferentes\n",
    "- Baseado em caracter: tamanho reduzido (caracteres possíveis na lingua). Carrega menos significado em relação ao metodo anterior e tokens podem ter grandes dimensões\n",
    "- Baseado em subword (subpalavras): palavras frequentes não são divididas em menores e palavras raras são divididas em subpalavras significativas\n",
    "\n",
    "A meioria dos modelos que atingem estado da arte em inglês atualmente usam algum tipo de tokenização  baseado em subword"
   ]
  },
  {
   "attachments": {},
   "cell_type": "markdown",
   "metadata": {},
   "source": [
    "### Carregando e salvando"
   ]
  },
  {
   "attachments": {},
   "cell_type": "markdown",
   "metadata": {},
   "source": [
    "### Classe específica"
   ]
  },
  {
   "cell_type": "code",
   "execution_count": null,
   "metadata": {},
   "outputs": [],
   "source": [
    "from transformers import BertTokenizer\n",
    "\n",
    "tokenizer = BertTokenizer.from_pretrained(\"bert-base-cased\")"
   ]
  },
  {
   "attachments": {},
   "cell_type": "markdown",
   "metadata": {},
   "source": [
    "### Usando AutoTokenizer"
   ]
  },
  {
   "cell_type": "code",
   "execution_count": null,
   "metadata": {},
   "outputs": [],
   "source": [
    "from transformers import AutoTokenizer\n",
    "\n",
    "tokenizer = AutoTokenizer.from_pretrained(\"bert-base-cased\")"
   ]
  },
  {
   "cell_type": "code",
   "execution_count": null,
   "metadata": {},
   "outputs": [],
   "source": [
    "tokenizer(\"Using a Transformer network is simple\")"
   ]
  },
  {
   "attachments": {},
   "cell_type": "markdown",
   "metadata": {},
   "source": [
    "### Salvando modelo"
   ]
  },
  {
   "cell_type": "code",
   "execution_count": null,
   "metadata": {},
   "outputs": [],
   "source": [
    "tokenizer.save_pretrained(\"directory_on_my_computer\")"
   ]
  },
  {
   "attachments": {},
   "cell_type": "markdown",
   "metadata": {},
   "source": [
    "### Pipeline"
   ]
  },
  {
   "cell_type": "code",
   "execution_count": 4,
   "metadata": {},
   "outputs": [
    {
     "data": {
      "image/png": "[encoded data removed]",
      "text/plain": [
       "<IPython.core.display.Image object>"
      ]
     },
     "execution_count": 4,
     "metadata": {},
     "output_type": "execute_result"
    }
   ],
   "source": [
    "Image(filename = 'data/tokenizacao.png')"
   ]
  },
  {
   "attachments": {},
   "cell_type": "markdown",
   "metadata": {},
   "source": [
    "#### Tokenização"
   ]
  },
  {
   "cell_type": "code",
   "execution_count": null,
   "metadata": {},
   "outputs": [],
   "source": [
    "from transformers import AutoTokenizer\n",
    "\n",
    "tokenizer = AutoTokenizer.from_pretrained(\"bert-base-cased\")\n",
    "\n",
    "sequence = \"Using a Transformer network is simple\"\n",
    "tokens = tokenizer.tokenize(sequence)\n",
    "\n",
    "print(tokens)"
   ]
  },
  {
   "attachments": {},
   "cell_type": "markdown",
   "metadata": {},
   "source": [
    "Output deve ser esse:"
   ]
  },
  {
   "cell_type": "code",
   "execution_count": null,
   "metadata": {},
   "outputs": [],
   "source": [
    "['Using', 'a', 'transform', '##er', 'network', 'is', 'simple']"
   ]
  },
  {
   "attachments": {},
   "cell_type": "markdown",
   "metadata": {},
   "source": [
    "#### Transformando tokens em IDs"
   ]
  },
  {
   "cell_type": "code",
   "execution_count": null,
   "metadata": {},
   "outputs": [],
   "source": [
    "inputs_ids = tokenizer.convert_tokens_to_ids(tokens)\n",
    "\n",
    "print(inputs_ids)"
   ]
  },
  {
   "attachments": {},
   "cell_type": "markdown",
   "metadata": {},
   "source": [
    "Nessa etapa também são adicionados tokens especiais, esperados pelo modelo (101 no inicio da sequencia  e 102 no final)"
   ]
  },
  {
   "cell_type": "code",
   "execution_count": null,
   "metadata": {},
   "outputs": [],
   "source": [
    "final_inputs = tokenizer.prepare_for_model(inputs_ids)\n",
    "print(final_inputs['inputs_ids'])\n",
    "\n",
    "# tentar\n",
    "print(final_inputs)"
   ]
  },
  {
   "attachments": {},
   "cell_type": "markdown",
   "metadata": {},
   "source": [
    "Os output resultantes, convertidos em tensores apropriados para o framework usado, podem ser usados como input para o modelo."
   ]
  },
  {
   "attachments": {},
   "cell_type": "markdown",
   "metadata": {},
   "source": [
    "#### Decoding"
   ]
  },
  {
   "cell_type": "code",
   "execution_count": null,
   "metadata": {},
   "outputs": [],
   "source": [
    "decoded_string = tokenizer.decode(inputs_ids)\n",
    "print(decoded_string)"
   ]
  },
  {
   "cell_type": "code",
   "execution_count": null,
   "metadata": {},
   "outputs": [],
   "source": [
    "print(tokenizer.decode(tokens['input_ids']))"
   ]
  },
  {
   "attachments": {},
   "cell_type": "markdown",
   "metadata": {},
   "source": [
    "## Multiplas entradas"
   ]
  },
  {
   "attachments": {},
   "cell_type": "markdown",
   "metadata": {},
   "source": [
    "Se duas entredas tiverem tamanhos diferentes iremos encontrar erros, pois só são admitidos tensores de tamanhos iguais.<br>\n",
    "Para resolver esse problema é utilizado 'padding', preenchimento da sequencia menor por 0 (nesse caso) para que a sequencia menor tenha o mesmo tamanho da sequencia final.<br>\n",
    "\n",
    "Exemplo de sequencia convertida em tokens:\n",
    "- 1 = [234, 566, 6758, 874, 74747, 875, 665, 1001, 2004, 3546] (10 itens)\n",
    "- 2 = [456, 876, 935, 809, 987] (5 itens)\n",
    "\n",
    "Após 'padding':\n",
    "- 1 = [234, 566, 6758, 874, 74747, 875, 665, 1001, 2004, 3546] (10 itens)\n",
    "- 2 = [456, 876, 935, 809, 987, 0, 0, 0, 0, 0] (10 itens)\n",
    "\n",
    "Tendo listas de mesmo tamanho agora precisamos indicar para as camadas de atenção quais termos devem ser ignorados(os 0 adicionados anteriormente) aplicando uma mascara de atenção (attention_mask)  \n",
    "\n"
   ]
  },
  {
   "attachments": {},
   "cell_type": "markdown",
   "metadata": {},
   "source": [
    "## Juntando tudo"
   ]
  },
  {
   "attachments": {},
   "cell_type": "markdown",
   "metadata": {},
   "source": [
    "Nos passos anteriores fizemos todas as etapas manualmente, porém a API Transformers já faz isso para nós com uma função de alto nível.<br>\n",
    "\n",
    "Quando instanciamos o tokenizer direto  na sentença, voce recebe de volta inputs para serem colocados no modelo"
   ]
  },
  {
   "cell_type": "code",
   "execution_count": null,
   "metadata": {},
   "outputs": [],
   "source": [
    "from transformers import AutoTokenizer\n",
    "\n",
    "checkpoint = \"distilbert-base-uncased-finetuned-sst-2-english\"\n",
    "tokenizer = AutoTokenizer.from_pretrained(checkpoint)\n",
    "\n",
    "sequence = \"I've been waiting for a HuggingFace course my whole life.\"\n",
    "\n",
    "model_inputs = tokenizer(sequence)"
   ]
  },
  {
   "attachments": {},
   "cell_type": "markdown",
   "metadata": {},
   "source": [
    "A variável 'model_inputs' contém tudo que é necessário para o modelo operar bem. Para 'DistilBERT', estão incluidos o ID do input e as attention mask. Esse método pode tokenizar uma ou mais sentenças"
   ]
  },
  {
   "cell_type": "code",
   "execution_count": null,
   "metadata": {},
   "outputs": [],
   "source": [
    "sequence = \"I've been waiting for a HuggingFace course my whole life.\"\n",
    "\n",
    "model_inputs = tokenizer(sequence)\n",
    "\n",
    "# OU\n",
    "\n",
    "sequences = [\"I've been waiting for a HuggingFace course my whole life.\", \"So have I!\"]\n",
    "\n",
    "model_inputs = tokenizer(sequence)"
   ]
  },
  {
   "attachments": {},
   "cell_type": "markdown",
   "metadata": {},
   "source": [
    "Usa o 'padding' de acordo com vários objetivos"
   ]
  },
  {
   "cell_type": "code",
   "execution_count": null,
   "metadata": {},
   "outputs": [],
   "source": [
    "model_inputs = tokenizer(\n",
    "    sequences, \n",
    "    padding=\"longest\"                     # padding com a maior sentença \n",
    "    # padding=\"max_length\"                # padding com a tamanho maximo do modelo\n",
    "    # padding=\"max_length\", max_length=8  # padding com tamanho especifico   \n",
    ")"
   ]
  },
  {
   "attachments": {},
   "cell_type": "markdown",
   "metadata": {},
   "source": [
    "Truncando sequencias é necessário para o modelo receber o formato padrão, ou seja sentenças de tamanhos iguais."
   ]
  },
  {
   "cell_type": "code",
   "execution_count": null,
   "metadata": {},
   "outputs": [],
   "source": [
    "sequences = [\"I've been waiting for a HuggingFace course my whole life.\", \"So have I!\"]\n",
    "\n",
    "# Truncagem de sequencias maiores que o tamanho maximo do modelo\n",
    "# (512 para BERT ou DistilBERT)\n",
    "model_inputs = tokenizer(sequences, truncation=True)\n",
    "\n",
    "# Truncagem de sequencias que são maiores do que o tamanho maximo estipulado\n",
    "model_inputs = tokenizer(sequences, max_length=8, \n",
    "                         truncation=True)"
   ]
  },
  {
   "attachments": {},
   "cell_type": "markdown",
   "metadata": {},
   "source": [
    "O tokenizador pode lidar com varios frameworks, que podem ser indicados para o modelo diretamente."
   ]
  },
  {
   "cell_type": "code",
   "execution_count": null,
   "metadata": {},
   "outputs": [],
   "source": [
    "sequences = [\"I've been waiting for a HuggingFace course my whole life.\", \"So have I!\"]\n",
    "\n",
    "# Retorna PyTorch tensors\n",
    "model_inputs = tokenizer(sequences, padding=True, \n",
    "                         return_tensors=\"pt\")\n",
    "\n",
    "# Retorna TensorFlow tensors\n",
    "model_inputs = tokenizer(sequences, padding=True, \n",
    "                         return_tensors=\"tf\")\n",
    "\n",
    "# Retorna NumPy arrays\n",
    "model_inputs = tokenizer(sequences, padding=True, \n",
    "                         return_tensors=\"np\")"
   ]
  },
  {
   "attachments": {},
   "cell_type": "markdown",
   "metadata": {},
   "source": [
    "Ao verificarmos os IDs dos inputs vemos um resultados um pouco diferente do que vimos antes, isso é devido adição de tokens especiais indicando o início ([CLS]) e o final ([SEP]). Esse comportamento pode mudar de modelo para modelo"
   ]
  },
  {
   "cell_type": "code",
   "execution_count": null,
   "metadata": {},
   "outputs": [],
   "source": [
    "sequence = \"I've been waiting for a HuggingFace course my whole life.\"\n",
    "\n",
    "model_inputs = tokenizer(sequence)\n",
    "print(model_inputs[\"input_ids\"])\n",
    "\n",
    "tokens = tokenizer.tokenize(sequence)\n",
    "ids = tokenizer.convert_tokens_to_ids(tokens)\n",
    "print(ids)"
   ]
  },
  {
   "cell_type": "code",
   "execution_count": null,
   "metadata": {},
   "outputs": [],
   "source": [
    "print(tokenizer.decode(model_inputs[\"input_ids\"]))\n",
    "print(tokenizer.decode(ids))"
   ]
  },
  {
   "attachments": {},
   "cell_type": "markdown",
   "metadata": {},
   "source": [
    "### O produto final"
   ]
  },
  {
   "attachments": {},
   "cell_type": "markdown",
   "metadata": {},
   "source": [
    "Nessas poucas linhas de códigos estão agrupados todos os passos anteriores"
   ]
  },
  {
   "cell_type": "code",
   "execution_count": null,
   "metadata": {},
   "outputs": [],
   "source": [
    "import tensorflow as tf\n",
    "from transformers import (\n",
    "    AutoTokenizer, TFAutoModelForSequenceClassification\n",
    ")\n",
    "\n",
    "checkpoint = \"distilbert-base-uncased-finetuned-sst-2-english\"\n",
    "tokenizer = AutoTokenizer.from_pretrained(checkpoint)\n",
    "model = TFAutoModelForSequenceClassification.from_pretrained(checkpoint)\n",
    "sequences = [\"I've been waiting for a HuggingFace course my whole life.\", \"So have I!\"]\n",
    "\n",
    "tokens = tokenizer(sequences, padding=True, \n",
    "                   truncation=True, return_tensors=\"tf\")\n",
    "output = model(**tokens)"
   ]
  },
  {
   "attachments": {},
   "cell_type": "markdown",
   "metadata": {},
   "source": [
    "# Ajuste fino de modelo pré-treinado"
   ]
  },
  {
   "attachments": {},
   "cell_type": "markdown",
   "metadata": {},
   "source": [
    "## Processando dados"
   ]
  },
  {
   "attachments": {},
   "cell_type": "markdown",
   "metadata": {},
   "source": [
    "Treinamento de classificador"
   ]
  },
  {
   "cell_type": "code",
   "execution_count": null,
   "metadata": {},
   "outputs": [],
   "source": [
    "import tensorflow as tf\n",
    "import numpy as np\n",
    "from transformers import (\n",
    "    AutoTokenizer, TFAutoModelForSequenceClassification\n",
    ")\n",
    "\n",
    "# Same as before\n",
    "checkpoint = \"bert-base-uncased\"\n",
    "tokenizer = AutoTokenizer.from_pretrained(checkpoint)\n",
    "model = TFAutoModelForSequenceClassification.from_pretrained(checkpoint)\n",
    "sequences = [\n",
    "    \"I've been waiting for a HuggingFace course my whole life.\",\n",
    "    \"This course is amazing!\",\n",
    "]\n",
    "batch = dict(tokenizer(sequences, padding=True, \n",
    "                       truncation=True, return_tensors=\"tf\"))\n",
    "\n",
    "# This is new\n",
    "model.compile(optimizer=\"adam\", loss=\"sparse_categorical_crossentropy\")\n",
    "labels = tf.convert_to_tensor([1, 1])\n",
    "model.train_on_batch(batch, labels)"
   ]
  },
  {
   "attachments": {},
   "cell_type": "markdown",
   "metadata": {},
   "source": [
    "Porém somente 2 sentenças não são suficientes para treinamento.<br>"
   ]
  },
  {
   "attachments": {},
   "cell_type": "markdown",
   "metadata": {},
   "source": [
    "### Carregando modelo do HUB"
   ]
  },
  {
   "attachments": {},
   "cell_type": "markdown",
   "metadata": {},
   "source": [
    "Usaremos como exemplo o dataset MRPC (Microsoft Research Paraphrase Corpus) que consiste em 5.801 pares de sentenças classificadas como parafrase ou não (frases com o mesmo sentido).\n",
    "Esse dataset é um dos muitos que compõem o GLUE benchmark, (academico usado para mensurar a performance de modelos de ML com diferentes tarefas de classificação)"
   ]
  },
  {
   "cell_type": "code",
   "execution_count": null,
   "metadata": {},
   "outputs": [],
   "source": [
    "from datasets import load_dataset\n",
    "\n",
    "raw_datasets = load_dataset(\"glue\", \"mrpc\")\n",
    "raw_datasets"
   ]
  },
  {
   "attachments": {},
   "cell_type": "markdown",
   "metadata": {},
   "source": [
    "Recebemos um objeto DatasetDict contendo conjunto de treino, validação e teste, cada um contendo as colunas 'sentence1', 'sentence2', 'label', e 'idx' e uma variedade de numeros de linhas que são os elementos em cada conjunto (3,668 pares de sentenças no treino, 408 na validação e 1,725 no teste)"
   ]
  },
  {
   "attachments": {},
   "cell_type": "markdown",
   "metadata": {},
   "source": [
    "Podemos acessar cada par de sentenças no dataset usando index, como em um dicionário"
   ]
  },
  {
   "cell_type": "code",
   "execution_count": null,
   "metadata": {},
   "outputs": [],
   "source": [
    "raw_train_dataset = raw_datasets[\"train\"]\n",
    "raw_train_dataset[0]"
   ]
  },
  {
   "attachments": {},
   "cell_type": "markdown",
   "metadata": {},
   "source": [
    "Nesse caso os rótulos ja são 'int' então não precisamos pré-processar. Para sabermos mais sobre as características do dataset podemos usar o atributo features"
   ]
  },
  {
   "cell_type": "code",
   "execution_count": null,
   "metadata": {},
   "outputs": [],
   "source": [
    "raw_train_dataset.features"
   ]
  },
  {
   "attachments": {},
   "cell_type": "markdown",
   "metadata": {},
   "source": [
    "### Pré-processando um dataset"
   ]
  },
  {
   "attachments": {},
   "cell_type": "markdown",
   "metadata": {},
   "source": [
    "Utilizando 'tokenizer' para converter texto em números para o modelo conseguir processar os dados. Podemos alimentar o 'tokenizer' com uma sentença ou uma lista de sentenças"
   ]
  },
  {
   "cell_type": "code",
   "execution_count": null,
   "metadata": {},
   "outputs": [],
   "source": [
    "from transformers import AutoTokenizer\n",
    "\n",
    "checkpoint = \"bert-base-uncased\"\n",
    "tokenizer = AutoTokenizer.from_pretrained(checkpoint)\n",
    "tokenized_sentences_1 = tokenizer(raw_datasets[\"train\"][\"sentence1\"])\n",
    "tokenized_sentences_2 = tokenizer(raw_datasets[\"train\"][\"sentence2\"])"
   ]
  },
  {
   "attachments": {},
   "cell_type": "markdown",
   "metadata": {},
   "source": [
    "Podemos também passar somente um par de frases para sabermos se são equivalentes ou não. Precisamos passar as duas sequencias como um par e aplicar o pré-processamento necessário"
   ]
  },
  {
   "cell_type": "code",
   "execution_count": null,
   "metadata": {},
   "outputs": [],
   "source": [
    "inputs = tokenizer(\"This is the first sentence.\", \n",
    "                   \"This is the second one.\")\n",
    "inputs"
   ]
  },
  {
   "attachments": {},
   "cell_type": "markdown",
   "metadata": {},
   "source": [
    "Nesse caso temos input_ids (discutido anteriormente), attention_mask (discutido anteriormente) e token_type_ids (nos diz qual é a primeira e qual é a segunda frase)"
   ]
  },
  {
   "attachments": {},
   "cell_type": "markdown",
   "metadata": {},
   "source": [
    "Podemos converter os inputs_ids para palavras novamente usando"
   ]
  },
  {
   "cell_type": "code",
   "execution_count": null,
   "metadata": {},
   "outputs": [],
   "source": [
    "tokenizer.convert_ids_to_tokens(inputs[\"input_ids\"])"
   ]
  },
  {
   "attachments": {},
   "cell_type": "markdown",
   "metadata": {},
   "source": [
    "O modelo espera que os inputs tenha o formato [CLS] frase1 [SEP] (ids 0) frase2 [SEP] (ids 1) quando temos 2 frases. Se alinharmos isso com o token_type_ids vemos que temos o tamanho correto das frases.<br>\n",
    "Importante lembrar que nem todos os checkpoint usam esse mesmo padrão, então para não ocorrerem erros é importante usar o mesmo checkpoint "
   ]
  },
  {
   "attachments": {},
   "cell_type": "markdown",
   "metadata": {},
   "source": [
    "O processo com as duas sentenças aplicado a todo o dataset seria da seguinte forma"
   ]
  },
  {
   "cell_type": "code",
   "execution_count": null,
   "metadata": {},
   "outputs": [],
   "source": [
    "tokenized_dataset = tokenizer(\n",
    "    raw_datasets[\"train\"][\"sentence1\"],\n",
    "    raw_datasets[\"train\"][\"sentence2\"],\n",
    "    padding=True,\n",
    "    truncation=True,\n",
    ")"
   ]
  },
  {
   "attachments": {},
   "cell_type": "markdown",
   "metadata": {},
   "source": [
    "Esse método tema  desvantagem de retornar um dicionário e só irá funcionar se tiver espaço duficiente na memória RAM para armazenar o dataset inteiro durante a tokenização (os datasets da biblioteca 🤗 são arquivos Apache Arrow armazenados em disco).<br>\n",
    "Para manter os dados como dataset usamos 'Dataset.map()', o que permite flexibilidade extra se precisarmos fazer mais pré-rocessamento além da tokenização. O método 'map()' funciona aplicando a função em cada elemento do dataset."
   ]
  },
  {
   "cell_type": "code",
   "execution_count": null,
   "metadata": {},
   "outputs": [],
   "source": [
    "# Definindo a função\n",
    "def tokenizacao(exemplo):\n",
    "    return tokenizer(exemplo['sentence1'], exemplo['sentence2'], \n",
    "                     truncation = True)"
   ]
  },
  {
   "attachments": {},
   "cell_type": "markdown",
   "metadata": {},
   "source": [
    "Essa função recebe um dicionário  e retorna  um novo dicionário com input_ids, attention_mask, e token_type_ids. Isso funciona também se tivermos várias amostras (cada chave com uma lista de sentenças) já que o tokenizer funciona com lista de pares de sentenças. Isso permite utilizarmos a opção 'batch = True' quando usamos 'map()', o que acelera o processo de tokenização.<br>\n",
    "Ainda não utilizamos o 'padding' pois fazer pelo tamanho máximo não é eficiente, sendo melhor faze-lo quando estivermos construindo os batches, pois usaremos o tamanho máximo de cada batch, podendo economizar muito tempo e poder de processamento.<br>\n",
    "Usamos a função de tokenização, batch e map() da seguinte forma: "
   ]
  },
  {
   "cell_type": "code",
   "execution_count": null,
   "metadata": {},
   "outputs": [],
   "source": [
    "tokenized_datasets = raw_datasets.map(tokenizacao, batched=True)\n",
    "tokenized_datasets"
   ]
  },
  {
   "attachments": {},
   "cell_type": "markdown",
   "metadata": {},
   "source": [
    "A biblioteca 🤗 Datasets aplica esse procedimento é adicionando novos campos ao dataset (um para cada chave no dicionário gerado pela função de pré-procesamento).<br>\n",
    "Também podemos usar multiprocessing usando a função com 'map()' adicionando argumento num_proc.<br>\n",
    "Nossa função tokenizacao retorna um dicionario com 'input_ids', 'attention_mask', e 'token_type_ids', campos adicionado a todas as divisões do nosso dataset (treino, validação e teste). Podemos também mudar campos existentes."
   ]
  },
  {
   "attachments": {},
   "cell_type": "markdown",
   "metadata": {},
   "source": [
    "### Padding dinamico"
   ]
  },
  {
   "attachments": {},
   "cell_type": "markdown",
   "metadata": {},
   "source": [
    "A função responsável por agrupar amostras dentro de um batch é chamada de 'collate'. Por padrão ela vai somente converter sua amostra em tensores e concatenar elas (recursivamente se seus elementos são listas, tuplas ou dicionários).<br>\n",
    "Com 🤗 Transformers nós temos 'DataCollatorWithPadding'."
   ]
  },
  {
   "cell_type": "code",
   "execution_count": null,
   "metadata": {},
   "outputs": [],
   "source": [
    "from transformers import DataCollatorWithPadding\n",
    "\n",
    "data_collator = DataCollatorWithPadding(tokenizer=tokenizer, \n",
    "                                        return_tensors=\"tf\")"
   ]
  },
  {
   "attachments": {},
   "cell_type": "markdown",
   "metadata": {},
   "source": [
    "Vamos testar esse novo brinquedo selecionando algumas amostras do nosso conjunto que queremos colocar em um batch. Removemos as colunas 'idx', 'sentence1' e 'sentence2' (não serão necessárias e contém strings, que não são possíveis criar tensores), e vamos verificar o tamanho de cada entrada no batch"
   ]
  },
  {
   "cell_type": "code",
   "execution_count": null,
   "metadata": {},
   "outputs": [],
   "source": [
    "samples = tokenized_datasets[\"train\"][:8]\n",
    "samples = {k: v for k, v in samples.items() \n",
    "           if k not in [\"idx\", \"sentence1\", \"sentence2\"]}\n",
    "[len(x) for x in samples[\"input_ids\"]]"
   ]
  },
  {
   "attachments": {},
   "cell_type": "markdown",
   "metadata": {},
   "source": [
    "Os tamanhos variam. Com 'padding' dinamico todas as entradas ficarã com tamanho de 67, que é o tamanho maximo dentro do batch. Sem essa técnica todas as entradas ficariam com o tamanho da maior entrada no dataset ou do tamanho maximo que o modelo suporta.<br>"
   ]
  },
  {
   "cell_type": "code",
   "execution_count": null,
   "metadata": {},
   "outputs": [],
   "source": [
    "# Checando o resultado\n",
    "batch = data_collator(samples)\n",
    "{k: v.shape for k, v in batch.items()}"
   ]
  },
  {
   "attachments": {},
   "cell_type": "markdown",
   "metadata": {},
   "source": [
    "Agora que temos o dataset e o collator precisamos coloca-los juntos, e podemos carregar os batches manualmente mas é muito trabalhoso e com baixa performance.<br>\n",
    "Para isso temos o 'to_tf_dataset()', que irá embrulhar um 'tf.data.Dataset' em volta do seu dataset, com uma função collation opcional. 'tf.data.Dataset' é um formato nativo do TensorFlow que o Keras pode usar para 'model.fit()', então esse método converte imediatamente um '🤗 Dataset' para o formato que está pronto para treino"
   ]
  },
  {
   "cell_type": "code",
   "execution_count": null,
   "metadata": {},
   "outputs": [],
   "source": [
    "tf_train_dataset = tokenized_datasets[\"train\"].to_tf_dataset(\n",
    "    columns=[\"attention_mask\", \"input_ids\", \"token_type_ids\"],\n",
    "    label_cols=[\"labels\"],\n",
    "    shuffle=True,\n",
    "    collate_fn=data_collator,\n",
    "    batch_size=8,\n",
    ")\n",
    "\n",
    "tf_validation_dataset = tokenized_datasets[\"validation\"].to_tf_dataset(\n",
    "    columns=[\"attention_mask\", \"input_ids\", \"token_type_ids\"],\n",
    "    label_cols=[\"labels\"],\n",
    "    shuffle=False,\n",
    "    collate_fn=data_collator,\n",
    "    batch_size=8,\n",
    ")"
   ]
  },
  {
   "attachments": {},
   "cell_type": "markdown",
   "metadata": {},
   "source": [
    "## Ajuste fino do modelo com Keras"
   ]
  },
  {
   "attachments": {},
   "cell_type": "markdown",
   "metadata": {},
   "source": [
    "Para melhor rodar os códigos é sugerido usar GPUs ou TPUs no colab."
   ]
  },
  {
   "cell_type": "code",
   "execution_count": null,
   "metadata": {},
   "outputs": [],
   "source": [
    "# Revendo passos anteriores\n",
    "from datasets import load_dataset\n",
    "from transformers import AutoTokenizer, DataCollatorWithPadding\n",
    "import numpy as np\n",
    "\n",
    "raw_datasets = load_dataset(\"glue\", \"mrpc\")\n",
    "checkpoint = \"bert-base-uncased\"\n",
    "tokenizer = AutoTokenizer.from_pretrained(checkpoint)\n",
    "\n",
    "\n",
    "def tokenize_function(example):\n",
    "    return tokenizer(example[\"sentence1\"], example[\"sentence2\"], \n",
    "                     truncation=True)\n",
    "\n",
    "\n",
    "tokenized_datasets = raw_datasets.map(tokenize_function, \n",
    "                                      batched=True)\n",
    "\n",
    "data_collator = DataCollatorWithPadding(tokenizer=tokenizer, \n",
    "                                        return_tensors=\"tf\")\n",
    "\n",
    "tf_train_dataset = tokenized_datasets[\"train\"].to_tf_dataset(\n",
    "    columns=[\"attention_mask\", \"input_ids\", \"token_type_ids\"],\n",
    "    label_cols=[\"labels\"],\n",
    "    shuffle=True,\n",
    "    collate_fn=data_collator,\n",
    "    batch_size=8,\n",
    ")\n",
    "\n",
    "tf_validation_dataset = tokenized_datasets[\"validation\"].to_tf_dataset(\n",
    "    columns=[\"attention_mask\", \"input_ids\", \"token_type_ids\"],\n",
    "    label_cols=[\"labels\"],\n",
    "    shuffle=False,\n",
    "    collate_fn=data_collator,\n",
    "    batch_size=8,\n",
    ")"
   ]
  },
  {
   "attachments": {},
   "cell_type": "markdown",
   "metadata": {},
   "source": [
    "### Treinando"
   ]
  },
  {
   "attachments": {},
   "cell_type": "markdown",
   "metadata": {},
   "source": [
    "Modelos do tensorflow importados da biblioteca 🤗 Transformers já são modelos Keras.  "
   ]
  },
  {
   "cell_type": "code",
   "execution_count": 4,
   "metadata": {},
   "outputs": [
    {
     "data": {
      "image/png": "[encoded data removed]",
      "text/plain": [
       "<IPython.core.display.Image object>"
      ]
     },
     "execution_count": 4,
     "metadata": {},
     "output_type": "execute_result"
    }
   ],
   "source": [
    "Image(filename = 'data/objeto_modelo_keras.png')"
   ]
  },
  {
   "attachments": {},
   "cell_type": "markdown",
   "metadata": {},
   "source": [
    "Acima representado um objeto \"modelo\" do Keras. Pode ser construido \"a mão\" do nada porém podemos carregar os modelos pré carregados com 'pesos' e outras características o que faciliata o processo.\n",
    "Com a API toda a complexidade de uma rede neural se torna manuseavel. Todos os modelos tem o mesmo funcionamento da API"
   ]
  },
  {
   "cell_type": "code",
   "execution_count": null,
   "metadata": {},
   "outputs": [],
   "source": [
    "from transformers import TFAutoModelForSequenceClassification\n",
    "\n",
    "model = TFAutoModelForSequenceClassification.from_pretrained(checkpoint, num_labels=2)"
   ]
  },
  {
   "cell_type": "code",
   "execution_count": null,
   "metadata": {},
   "outputs": [],
   "source": [
    "from tensorflow.keras.losses import SparseCategoricalCrossentropy\n",
    "\n",
    "loss = SparseCategoricalCrossentropy(from_logits=True)\n",
    "\n",
    "model.compile(\n",
    "    optimizer=\"adam\",\n",
    "    loss=loss,\n",
    "    metrics=[\"accuracy\"],\n",
    ")"
   ]
  },
  {
   "attachments": {},
   "cell_type": "markdown",
   "metadata": {},
   "source": [
    "Função 'loss' pode ser chamada com string mas pode gerar erros"
   ]
  },
  {
   "cell_type": "code",
   "execution_count": null,
   "metadata": {},
   "outputs": [],
   "source": [
    "model.fit(\n",
    "    tf_train_dataset,\n",
    "    validation_data=tf_validation_dataset,\n",
    ")"
   ]
  },
  {
   "attachments": {},
   "cell_type": "markdown",
   "metadata": {},
   "source": [
    "Para fazer os ajustes finos no modelo com nossos dados temos que 'compile()' nosso modelo e então passar nossos dados no método 'fit()' e isso inciará o processo de ajuste, que deve levar alguns minutos em uma GPU reportando a perda do treinamento com o processo desenrolando, assim como a perda da validação ao final de cada epoca."
   ]
  },
  {
   "attachments": {},
   "cell_type": "markdown",
   "metadata": {},
   "source": [
    "## Aprimorando a performance do treino"
   ]
  },
  {
   "attachments": {},
   "cell_type": "markdown",
   "metadata": {},
   "source": [
    "Com esse modelo ja teremos resultados relevantes, porém veremos que a perda diminui devagar ou esporadicamente, e a primeira causa disso pode ser a taxa de aprendizado. Por padrão a taxa do modelo é muito alta 1e-3 (ou 10 elevado a -3, ou 0.001). Por experiencia dos experts sabe-se que modelos como transformers se beneficiam de uma taxa de aprendizado mais baixa. Vamos diminuir para 5e-5 (ou 0.00005), uma taxa 20 vezes mais baixa, que seria um bom parametro inicial.<br>\n",
    "<br>\n",
    "Também podemos utilizar outro recurso que é reduzir a taxa de aprendizado de com o passar do tempo. No Keras o melhor jeito de aplicarmos esse conceito é com 'learning rate scheduler'. Uma boa maneira para isso é utilizar 'PolynomialDecay()' que apesar do nome com os parametros padrão é somente um decaimento linear ao longo do treinamento. Para executa-lo corretamente precisamos dizer qual a duração do treinamento, que sera estipulado como 'num_train_steps' abaixo:"
   ]
  },
  {
   "cell_type": "code",
   "execution_count": null,
   "metadata": {},
   "outputs": [],
   "source": [
    "from tensorflow.keras.optimizers.schedules import PolynomialDecay\n",
    "\n",
    "batch_size = 8\n",
    "num_epochs = 3\n",
    "# Numero de training steps é numero total de amostras no dataset dividido pelo tamanho do batch então multiplicado pelo numero de epocas. \n",
    "# Note que 'tf_train_dataset' é um batched tf.data.Dataset, não um dataset original HuggingFace, então len() já é num_samples // batch_size.\n",
    "num_train_steps = len(tf_train_dataset) * num_epochs\n",
    "lr_scheduler = PolynomialDecay(\n",
    "    initial_learning_rate=5e-5, end_learning_rate=0.0, \n",
    "    decay_steps=num_train_steps\n",
    ")\n",
    "from tensorflow.keras.optimizers import Adam\n",
    "\n",
    "opt = Adam(learning_rate=lr_scheduler)"
   ]
  },
  {
   "attachments": {},
   "cell_type": "markdown",
   "metadata": {},
   "source": [
    "Agora temos um otimizador e podemos treinar com ele. Vamos recarregar o modelo para resetar as mudanças dos 'pesos' com o treinamento que fizemos agora a pouco, então podemos compilar o novo otimizador"
   ]
  },
  {
   "cell_type": "code",
   "execution_count": null,
   "metadata": {},
   "outputs": [],
   "source": [
    "import tensorflow as tf\n",
    "\n",
    "model = TFAutoModelForSequenceClassification.from_pretrained(checkpoint, num_labels=2)\n",
    "loss = tf.keras.losses.SparseCategoricalCrossentropy(from_logits=True)\n",
    "model.compile(optimizer=opt, loss=loss, metrics=[\"accuracy\"])"
   ]
  },
  {
   "attachments": {},
   "cell_type": "markdown",
   "metadata": {},
   "source": [
    "E utilizamos 'fit()' novamente"
   ]
  },
  {
   "cell_type": "code",
   "execution_count": null,
   "metadata": {},
   "outputs": [],
   "source": [
    "model.fit(tf_train_dataset, validation_data=tf_validation_dataset, epochs=3)"
   ]
  },
  {
   "attachments": {},
   "cell_type": "markdown",
   "metadata": {},
   "source": [
    "Para conseguirmos retornar as saídas do modelo treinado, computar algumas métricas ou utilizar em produção podemos usar o método 'predict()', que irá nos retornar 'logits', um para cada classe."
   ]
  },
  {
   "cell_type": "code",
   "execution_count": null,
   "metadata": {},
   "outputs": [],
   "source": [
    "preds = model.predict(tf_validation_dataset)[\"logits\"]"
   ]
  },
  {
   "attachments": {},
   "cell_type": "markdown",
   "metadata": {},
   "source": [
    "Podemos converte-los nas classes preditas do nosso modelo utilziando 'argmax' para achar o 'logit' mais alto, que corresponde a classe mais provável."
   ]
  },
  {
   "cell_type": "code",
   "execution_count": null,
   "metadata": {},
   "outputs": [],
   "source": [
    "class_preds = np.argmax(preds, axis=1)\n",
    "print(preds.shape, class_preds.shape)"
   ]
  },
  {
   "attachments": {},
   "cell_type": "markdown",
   "metadata": {},
   "source": [
    "Vamos utilizar algumas métricas com 'preds'. Iremos carregar metricas associadas com o dataset em questão, utilizando a função 'evaluate.load()'. O objeto retornado tem tem um método 'compute()' para calculo de métricas."
   ]
  },
  {
   "cell_type": "code",
   "execution_count": null,
   "metadata": {},
   "outputs": [],
   "source": [
    "import evaluate\n",
    "\n",
    "metric = evaluate.load(\"glue\", \"mrpc\")\n",
    "metric.compute(predictions=class_preds, \n",
    "               references=raw_datasets[\"validation\"][\"label\"])"
   ]
  },
  {
   "attachments": {},
   "cell_type": "markdown",
   "metadata": {},
   "source": [
    "### Opção disponibilizada no vídeo (alternativa - entender)"
   ]
  },
  {
   "attachments": {},
   "cell_type": "markdown",
   "metadata": {},
   "source": [
    "Isso carrega e utiliza as métricas do 'GLUE'"
   ]
  },
  {
   "cell_type": "code",
   "execution_count": null,
   "metadata": {},
   "outputs": [],
   "source": [
    "preds = model.predict(tokenized_datasets['validation'])['logits']\n",
    "probabilities = tf.nn.softmax(preds)\n",
    "class_preds = np.argmax(probabilities, axis=1)"
   ]
  },
  {
   "cell_type": "code",
   "execution_count": null,
   "metadata": {},
   "outputs": [],
   "source": [
    "from datasets import load_metric\n",
    "\n",
    "metric = load_metric(\"glue\", \"mrpc\")\n",
    "metric.compute(predictions = class_preds, \n",
    "               references = validation_labels)"
   ]
  },
  {
   "attachments": {},
   "cell_type": "markdown",
   "metadata": {},
   "source": [
    "Metricas nativas do Keras"
   ]
  },
  {
   "cell_type": "code",
   "execution_count": null,
   "metadata": {},
   "outputs": [],
   "source": [
    "model.compile(loss = loss, opt = opt, metrics = ['accuracy'])"
   ]
  },
  {
   "attachments": {},
   "cell_type": "markdown",
   "metadata": {},
   "source": [
    "## Treino completo (com PyTorch)"
   ]
  },
  {
   "cell_type": "code",
   "execution_count": 3,
   "metadata": {},
   "outputs": [
    {
     "data": {
      "image/png": "[encoded data removed]",
      "text/plain": [
       "<IPython.core.display.Image object>"
      ]
     },
     "execution_count": 3,
     "metadata": {},
     "output_type": "execute_result"
    }
   ],
   "source": [
    "# Exemplo de training loop\n",
    "Image(filename = 'data/esquema_trainingloop.png')"
   ]
  },
  {
   "cell_type": "code",
   "execution_count": null,
   "metadata": {},
   "outputs": [],
   "source": [
    "from datasets import load_dataset\n",
    "from transformers import AutoTokenizer, DataCollatorWithPadding\n",
    "\n",
    "raw_datasets = load_dataset(\"glue\", \"mrpc\")\n",
    "checkpoint = \"bert-base-uncased\"\n",
    "tokenizer = AutoTokenizer.from_pretrained(checkpoint)\n",
    "\n",
    "\n",
    "def tokenize_function(example):\n",
    "    return tokenizer(example[\"sentence1\"], example[\"sentence2\"], \n",
    "                     truncation=True)\n",
    "\n",
    "\n",
    "tokenized_datasets = raw_datasets.map(tokenize_function, batched=True)\n",
    "# tokenized_datasets = tokenized_datasets.remove_columns(['sentence1', 'sentence2', 'idx'])     # Adições presentes no vídeo\n",
    "# tokenized_datasets = tokenized_datasets.rename_columns('label', 'labels')                     # Aparecem na próxima etapa\n",
    "data_collator = DataCollatorWithPadding(tokenizer=tokenizer)"
   ]
  },
  {
   "attachments": {},
   "cell_type": "markdown",
   "metadata": {},
   "source": [
    "### Preparação para treino"
   ]
  },
  {
   "attachments": {},
   "cell_type": "markdown",
   "metadata": {},
   "source": [
    "Precisamos definir alguns objetos como 'dataloaders' (para iterar nos batches), mas antes precisamos um pouco de pré-processamento nos nossos 'tokenized_datasets' que o 'Trainer' fez por nós automaticamente.<br>\n",
    "\n",
    "Precisamos, então:\n",
    "- Remover colunas que não serão usadas no modelo\n",
    "- Renomear colunas\n",
    "- Estipular formato (PyTorch tensor ao invés de listas)"
   ]
  },
  {
   "cell_type": "code",
   "execution_count": null,
   "metadata": {},
   "outputs": [],
   "source": [
    "tokenized_datasets = tokenized_datasets.remove_columns([\"sentence1\", \"sentence2\", \"idx\"])\n",
    "tokenized_datasets = tokenized_datasets.rename_column(\"label\", \"labels\")\n",
    "tokenized_datasets.set_format(\"torch\")\n",
    "tokenized_datasets[\"train\"].column_names"
   ]
  },
  {
   "attachments": {},
   "cell_type": "markdown",
   "metadata": {},
   "source": [
    "Agora podemos definir nossos 'dataloaders'"
   ]
  },
  {
   "cell_type": "code",
   "execution_count": null,
   "metadata": {},
   "outputs": [],
   "source": [
    "from torch.utils.data import DataLoader\n",
    "\n",
    "train_dataloader = DataLoader(\n",
    "    tokenized_datasets[\"train\"], shuffle=True, \n",
    "    batch_size=8, collate_fn=data_collator\n",
    ")\n",
    "eval_dataloader = DataLoader(\n",
    "    tokenized_datasets[\"validation\"], batch_size=8, \n",
    "    collate_fn=data_collator\n",
    ")"
   ]
  },
  {
   "attachments": {},
   "cell_type": "markdown",
   "metadata": {},
   "source": [
    "Podemos checar se não há erros no processo, inspecionando um batch"
   ]
  },
  {
   "cell_type": "code",
   "execution_count": null,
   "metadata": {},
   "outputs": [],
   "source": [
    "for batch in train_dataloader:\n",
    "    break\n",
    "{k: v.shape for k, v in batch.items()}"
   ]
  },
  {
   "attachments": {},
   "cell_type": "markdown",
   "metadata": {},
   "source": [
    "Após o préprocessamento podemos focar no modelo"
   ]
  },
  {
   "cell_type": "code",
   "execution_count": null,
   "metadata": {},
   "outputs": [],
   "source": [
    "from transformers import AutoModelForSequenceClassification\n",
    "\n",
    "model = AutoModelForSequenceClassification.from_pretrained(checkpoint, num_labels=2)"
   ]
  },
  {
   "attachments": {},
   "cell_type": "markdown",
   "metadata": {},
   "source": [
    "Para nos certificarmos que ocorrerá de forma adequada passamos um batch para o modelo"
   ]
  },
  {
   "cell_type": "code",
   "execution_count": null,
   "metadata": {},
   "outputs": [],
   "source": [
    "outputs = model(**batch)\n",
    "print(outputs.loss, outputs.logits.shape)"
   ]
  },
  {
   "attachments": {},
   "cell_type": "markdown",
   "metadata": {},
   "source": [
    "Todos os modelos 🤗 Transformers retornam a perda quando os rótulos são dados, e também temos os logits.<br>\n",
    "\n",
    "Precisamos também de um otimizador e de uma cronograma de taxa de aprendizado. Como estamos simulando o que o Trainer fez usaremos os mesmos parametros.\n",
    "\n",
    "O otimizador utilizado pelo Trainer é o 'AdamW' (similar ao Adam, porém com uma alteração na regularização do decaimento)"
   ]
  },
  {
   "cell_type": "code",
   "execution_count": null,
   "metadata": {},
   "outputs": [],
   "source": [
    "from transformers import AdamW\n",
    "\n",
    "optimizer = AdamW(model.parameters(), lr=5e-5)"
   ]
  },
  {
   "attachments": {},
   "cell_type": "markdown",
   "metadata": {},
   "source": [
    "Para definir adequadamente precisamos saber a quantidade de 'training steps', que é o número de épocas que queremos executar multiplicado pelo pelo número de 'training batches' (que é o tamanho do nosso 'training dataloader')."
   ]
  },
  {
   "cell_type": "code",
   "execution_count": null,
   "metadata": {},
   "outputs": [],
   "source": [
    "from transformers import get_scheduler\n",
    "\n",
    "num_epochs = 3                                              # Número padrão do Trainer\n",
    "num_training_steps = num_epochs * len(train_dataloader)\n",
    "lr_scheduler = get_scheduler(\n",
    "    \"linear\",\n",
    "    optimizer=optimizer,\n",
    "    num_warmup_steps=0,\n",
    "    num_training_steps=num_training_steps,\n",
    ")\n",
    "print(num_training_steps)"
   ]
  },
  {
   "attachments": {},
   "cell_type": "markdown",
   "metadata": {},
   "source": [
    "### Training Loop"
   ]
  },
  {
   "attachments": {},
   "cell_type": "markdown",
   "metadata": {},
   "source": [
    "Caso esteja disponível podemos optar por usar uma GPU (ou o processo demorará um tempo considerável). Para isso definimos um 'device' no qual colocaremos nosso modelo e 'batches'"
   ]
  },
  {
   "cell_type": "code",
   "execution_count": null,
   "metadata": {},
   "outputs": [],
   "source": [
    "import torch\n",
    "\n",
    "device = torch.device(\"cuda\") if torch.cuda.is_available() else torch.device(\"cpu\")\n",
    "model.to(device)\n",
    "device"
   ]
  },
  {
   "attachments": {},
   "cell_type": "markdown",
   "metadata": {},
   "source": [
    "Podemos treinar agora. Adicionamos uma barra de progresso para acompanhar  o andamento"
   ]
  },
  {
   "cell_type": "code",
   "execution_count": null,
   "metadata": {},
   "outputs": [],
   "source": [
    "from tqdm.auto import tqdm\n",
    "\n",
    "progress_bar = tqdm(range(num_training_steps))\n",
    "\n",
    "model.train()\n",
    "for epoch in range(num_epochs):\n",
    "    for batch in train_dataloader:\n",
    "        batch = {k: v.to(device) for k, v in batch.items()}\n",
    "        outputs = model(**batch)\n",
    "        loss = outputs.loss\n",
    "        loss.backward()\n",
    "\n",
    "        optimizer.step()\n",
    "        lr_scheduler.step()\n",
    "        optimizer.zero_grad()\n",
    "        progress_bar.update(1)"
   ]
  },
  {
   "attachments": {},
   "cell_type": "markdown",
   "metadata": {},
   "source": [
    "Precisamos também adicionar um loop para avaliar como o modelo está se saindo"
   ]
  },
  {
   "attachments": {},
   "cell_type": "markdown",
   "metadata": {},
   "source": [
    "### Evaluation Loop"
   ]
  },
  {
   "attachments": {},
   "cell_type": "markdown",
   "metadata": {},
   "source": [
    "Usaremos novamente uma métrica disponibilizada pela biblioteca 🤗 Evaluate. Já vimos o método 'metric.compute()', mas as métricas podem acumular os batches de acordo com o progresso do loop de previsão com o método 'add_batch()'. Quando acumularmos todos os batches temos o resultado final com 'metric.compute()'"
   ]
  },
  {
   "cell_type": "code",
   "execution_count": null,
   "metadata": {},
   "outputs": [],
   "source": [
    "import evaluate\n",
    "\n",
    "metric = evaluate.load(\"glue\", \"mrpc\")\n",
    "model.eval()\n",
    "for batch in eval_dataloader:\n",
    "    batch = {k: v.to(device) for k, v in batch.items()}\n",
    "    with torch.no_grad():\n",
    "        outputs = model(**batch)\n",
    "\n",
    "    logits = outputs.logits\n",
    "    predictions = torch.argmax(logits, dim=-1)\n",
    "    metric.add_batch(predictions=predictions, references=batch[\"labels\"])\n",
    "\n",
    "metric.compute()"
   ]
  },
  {
   "attachments": {},
   "cell_type": "markdown",
   "metadata": {},
   "source": [
    "### Otimizando o training loop com Accelerate"
   ]
  },
  {
   "attachments": {},
   "cell_type": "markdown",
   "metadata": {},
   "source": [
    "O training loop anterior funciona bem em uma CPU/GPU, mas usando a biblioteca 🤗 Accelerate com alguns ajustes poddemos disponibillizar um treinamento distribuido  em multiplas CPUs/GPUs. Começando da criação de dataloaders de treino e validação nosso loop seria assim"
   ]
  },
  {
   "cell_type": "code",
   "execution_count": null,
   "metadata": {},
   "outputs": [],
   "source": [
    "from transformers import AdamW, AutoModelForSequenceClassification, get_scheduler\n",
    "\n",
    "model = AutoModelForSequenceClassification.from_pretrained(checkpoint, num_labels=2)\n",
    "optimizer = AdamW(model.parameters(), lr=3e-5)\n",
    "\n",
    "device = torch.device(\"cuda\") if torch.cuda.is_available() else torch.device(\"cpu\")\n",
    "model.to(device)\n",
    "\n",
    "num_epochs = 3\n",
    "num_training_steps = num_epochs * len(train_dataloader)\n",
    "lr_scheduler = get_scheduler(\n",
    "    \"linear\",\n",
    "    optimizer=optimizer,\n",
    "    num_warmup_steps=0,\n",
    "    num_training_steps=num_training_steps,\n",
    ")\n",
    "\n",
    "progress_bar = tqdm(range(num_training_steps))\n",
    "\n",
    "model.train()\n",
    "for epoch in range(num_epochs):\n",
    "    for batch in train_dataloader:\n",
    "        batch = {k: v.to(device) for k, v in batch.items()}\n",
    "        outputs = model(**batch)\n",
    "        loss = outputs.loss\n",
    "        loss.backward()\n",
    "\n",
    "        optimizer.step()\n",
    "        lr_scheduler.step()\n",
    "        optimizer.zero_grad()\n",
    "        progress_bar.update(1)"
   ]
  },
  {
   "attachments": {},
   "cell_type": "markdown",
   "metadata": {},
   "source": [
    "E podemos adicionar mudanças assim"
   ]
  },
  {
   "cell_type": "code",
   "execution_count": null,
   "metadata": {},
   "outputs": [],
   "source": [
    "+ from accelerate import Accelerator\n",
    "  from transformers import AdamW, AutoModelForSequenceClassification, get_scheduler\n",
    "\n",
    "+ accelerator = Accelerator()\n",
    "\n",
    "  model = AutoModelForSequenceClassification.from_pretrained(checkpoint, num_labels=2)\n",
    "  optimizer = AdamW(model.parameters(), lr=3e-5)\n",
    "\n",
    "- device = torch.device(\"cuda\") if torch.cuda.is_available() else torch.device(\"cpu\")\n",
    "- model.to(device)\n",
    "\n",
    "+ train_dataloader, eval_dataloader, model, optimizer = accelerator.prepare(\n",
    "+     train_dataloader, eval_dataloader, model, optimizer\n",
    "+ )\n",
    "\n",
    "  num_epochs = 3\n",
    "  num_training_steps = num_epochs * len(train_dataloader)\n",
    "  lr_scheduler = get_scheduler(\n",
    "      \"linear\",\n",
    "      optimizer=optimizer,\n",
    "      num_warmup_steps=0,\n",
    "      num_training_steps=num_training_steps\n",
    "  )\n",
    "\n",
    "  progress_bar = tqdm(range(num_training_steps))\n",
    "\n",
    "  model.train()\n",
    "  for epoch in range(num_epochs):\n",
    "      for batch in train_dataloader:\n",
    "-         batch = {k: v.to(device) for k, v in batch.items()}\n",
    "          outputs = model(**batch)\n",
    "          loss = outputs.loss\n",
    "-         loss.backward()\n",
    "+         accelerator.backward(loss)\n",
    "\n",
    "          optimizer.step()\n",
    "          lr_scheduler.step()\n",
    "          optimizer.zero_grad()\n",
    "          progress_bar.update(1)"
   ]
  },
  {
   "attachments": {},
   "cell_type": "markdown",
   "metadata": {},
   "source": [
    "Importamos na primeira linha e na segunda instanciamos o objeto Accelerator, que irá observar o ambiente e incializar o setup de distribuição necessária, e o 🤗 Accelerate cuida da escolha do 'device', então podemos tirar essa linha.<br>\n",
    "\n",
    "O trabalho pesado é feito na linha em que mandamos os dataloaders, o modelo, e o otimizador para o 'accelerator.prepare()', isso encapsulará esses objetos no container apropriado para que o treinamento distribuido funcione adequadamente. Devemos também remover as linhas que coloca o batch no device e trocar 'loss.backward()' por 'accelerator.backward(loss)'."
   ]
  },
  {
   "attachments": {},
   "cell_type": "markdown",
   "metadata": {},
   "source": [
    "Loop completo com 🤗 Accelerate"
   ]
  },
  {
   "cell_type": "code",
   "execution_count": null,
   "metadata": {},
   "outputs": [],
   "source": [
    "from accelerate import Accelerator\n",
    "from transformers import AdamW, AutoModelForSequenceClassification, get_scheduler\n",
    "\n",
    "accelerator = Accelerator()\n",
    "\n",
    "model = AutoModelForSequenceClassification.from_pretrained(checkpoint, num_labels=2)\n",
    "optimizer = AdamW(model.parameters(), lr=3e-5)\n",
    "\n",
    "train_dl, eval_dl, model, optimizer = accelerator.prepare(\n",
    "    train_dataloader, eval_dataloader, model, optimizer\n",
    ")\n",
    "\n",
    "num_epochs = 3\n",
    "num_training_steps = num_epochs * len(train_dl)\n",
    "lr_scheduler = get_scheduler(\n",
    "    \"linear\",\n",
    "    optimizer=optimizer,\n",
    "    num_warmup_steps=0,\n",
    "    num_training_steps=num_training_steps,\n",
    ")\n",
    "\n",
    "progress_bar = tqdm(range(num_training_steps))\n",
    "\n",
    "model.train()\n",
    "for epoch in range(num_epochs):\n",
    "    for batch in train_dl:\n",
    "        outputs = model(**batch)\n",
    "        loss = outputs.loss\n",
    "        accelerator.backward(loss)\n",
    "\n",
    "        optimizer.step()\n",
    "        lr_scheduler.step()\n",
    "        optimizer.zero_grad()\n",
    "        progress_bar.update(1)"
   ]
  },
  {
   "attachments": {},
   "cell_type": "markdown",
   "metadata": {},
   "source": [
    "Colocando isso em um script train.py possibilitará que seja rodado em qualquer setup distribuido. Para isso rode o comando:"
   ]
  },
  {
   "cell_type": "code",
   "execution_count": null,
   "metadata": {},
   "outputs": [],
   "source": [
    "\n",
    "accelerate config"
   ]
  },
  {
   "attachments": {},
   "cell_type": "markdown",
   "metadata": {},
   "source": [
    "Você tera que responder algumas perguntas e colocar as respostas em um arquivo de configuração usando o comando abaixo, que iniciara o treinamento distribuido.\n",
    "\n"
   ]
  },
  {
   "cell_type": "code",
   "execution_count": null,
   "metadata": {},
   "outputs": [],
   "source": [
    "accelerate launch train.py"
   ]
  },
  {
   "attachments": {},
   "cell_type": "markdown",
   "metadata": {},
   "source": [
    "Se quiser testar em um notebook (por exemplo, testar com TPUs no Colab), copie e cole o código em uma função training_function() e rode uma ultima célula com:"
   ]
  },
  {
   "cell_type": "code",
   "execution_count": null,
   "metadata": {},
   "outputs": [],
   "source": [
    "from accelerate import notebook_launcher\n",
    "\n",
    "notebook_launcher(training_function)"
   ]
  }
 ],
 "metadata": {
  "kernelspec": {
   "display_name": "venv",
   "language": "python",
   "name": "python3"
  },
  "language_info": {
   "codemirror_mode": {
    "name": "ipython",
    "version": 3
   },
   "file_extension": ".py",
   "mimetype": "text/x-python",
   "name": "python",
   "nbconvert_exporter": "python",
   "pygments_lexer": "ipython3",
   "version": "3.10.4"
  },
  "orig_nbformat": 4
 },
 "nbformat": 4,
 "nbformat_minor": 2
}
